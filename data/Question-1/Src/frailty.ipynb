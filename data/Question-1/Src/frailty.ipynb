{
  "cells": [
    {
      "cell_type": "code",
      "execution_count": null,
      "metadata": {
        "id": "DTvALc81xQbZ"
      },
      "outputs": [],
      "source": [
        "import pandas as pd\n",
        "import matplotlib.pyplot as plt\n",
        "import seaborn as sns\n",
        "import os\n",
        "\n",
        "os.makedirs(\"results\", exist_ok=True)\n",
        "df.to_csv(\"results/processed_data.csv\", index=False)\n",
        "summary = df.describe()\n",
        "summary.to_csv(\"results/summary_statistics.csv\")"
      ]
    },
    {
      "cell_type": "code",
      "execution_count": null,
      "metadata": {
        "colab": {
          "base_uri": "https://localhost:8080/",
          "height": 73
        },
        "id": "m0dh5zmxxZTm",
        "outputId": "e29875eb-1437-491d-f34d-914f4626105c"
      },
      "outputs": [
        {
          "output_type": "display_data",
          "data": {
            "text/plain": [
              "<IPython.core.display.HTML object>"
            ],
            "text/html": [
              "\n",
              "     <input type=\"file\" id=\"files-e8f2d867-7d24-476c-8997-a7099f576a82\" name=\"files[]\" multiple disabled\n",
              "        style=\"border:none\" />\n",
              "     <output id=\"result-e8f2d867-7d24-476c-8997-a7099f576a82\">\n",
              "      Upload widget is only available when the cell has been executed in the\n",
              "      current browser session. Please rerun this cell to enable.\n",
              "      </output>\n",
              "      <script>// Copyright 2017 Google LLC\n",
              "//\n",
              "// Licensed under the Apache License, Version 2.0 (the \"License\");\n",
              "// you may not use this file except in compliance with the License.\n",
              "// You may obtain a copy of the License at\n",
              "//\n",
              "//      http://www.apache.org/licenses/LICENSE-2.0\n",
              "//\n",
              "// Unless required by applicable law or agreed to in writing, software\n",
              "// distributed under the License is distributed on an \"AS IS\" BASIS,\n",
              "// WITHOUT WARRANTIES OR CONDITIONS OF ANY KIND, either express or implied.\n",
              "// See the License for the specific language governing permissions and\n",
              "// limitations under the License.\n",
              "\n",
              "/**\n",
              " * @fileoverview Helpers for google.colab Python module.\n",
              " */\n",
              "(function(scope) {\n",
              "function span(text, styleAttributes = {}) {\n",
              "  const element = document.createElement('span');\n",
              "  element.textContent = text;\n",
              "  for (const key of Object.keys(styleAttributes)) {\n",
              "    element.style[key] = styleAttributes[key];\n",
              "  }\n",
              "  return element;\n",
              "}\n",
              "\n",
              "// Max number of bytes which will be uploaded at a time.\n",
              "const MAX_PAYLOAD_SIZE = 100 * 1024;\n",
              "\n",
              "function _uploadFiles(inputId, outputId) {\n",
              "  const steps = uploadFilesStep(inputId, outputId);\n",
              "  const outputElement = document.getElementById(outputId);\n",
              "  // Cache steps on the outputElement to make it available for the next call\n",
              "  // to uploadFilesContinue from Python.\n",
              "  outputElement.steps = steps;\n",
              "\n",
              "  return _uploadFilesContinue(outputId);\n",
              "}\n",
              "\n",
              "// This is roughly an async generator (not supported in the browser yet),\n",
              "// where there are multiple asynchronous steps and the Python side is going\n",
              "// to poll for completion of each step.\n",
              "// This uses a Promise to block the python side on completion of each step,\n",
              "// then passes the result of the previous step as the input to the next step.\n",
              "function _uploadFilesContinue(outputId) {\n",
              "  const outputElement = document.getElementById(outputId);\n",
              "  const steps = outputElement.steps;\n",
              "\n",
              "  const next = steps.next(outputElement.lastPromiseValue);\n",
              "  return Promise.resolve(next.value.promise).then((value) => {\n",
              "    // Cache the last promise value to make it available to the next\n",
              "    // step of the generator.\n",
              "    outputElement.lastPromiseValue = value;\n",
              "    return next.value.response;\n",
              "  });\n",
              "}\n",
              "\n",
              "/**\n",
              " * Generator function which is called between each async step of the upload\n",
              " * process.\n",
              " * @param {string} inputId Element ID of the input file picker element.\n",
              " * @param {string} outputId Element ID of the output display.\n",
              " * @return {!Iterable<!Object>} Iterable of next steps.\n",
              " */\n",
              "function* uploadFilesStep(inputId, outputId) {\n",
              "  const inputElement = document.getElementById(inputId);\n",
              "  inputElement.disabled = false;\n",
              "\n",
              "  const outputElement = document.getElementById(outputId);\n",
              "  outputElement.innerHTML = '';\n",
              "\n",
              "  const pickedPromise = new Promise((resolve) => {\n",
              "    inputElement.addEventListener('change', (e) => {\n",
              "      resolve(e.target.files);\n",
              "    });\n",
              "  });\n",
              "\n",
              "  const cancel = document.createElement('button');\n",
              "  inputElement.parentElement.appendChild(cancel);\n",
              "  cancel.textContent = 'Cancel upload';\n",
              "  const cancelPromise = new Promise((resolve) => {\n",
              "    cancel.onclick = () => {\n",
              "      resolve(null);\n",
              "    };\n",
              "  });\n",
              "\n",
              "  // Wait for the user to pick the files.\n",
              "  const files = yield {\n",
              "    promise: Promise.race([pickedPromise, cancelPromise]),\n",
              "    response: {\n",
              "      action: 'starting',\n",
              "    }\n",
              "  };\n",
              "\n",
              "  cancel.remove();\n",
              "\n",
              "  // Disable the input element since further picks are not allowed.\n",
              "  inputElement.disabled = true;\n",
              "\n",
              "  if (!files) {\n",
              "    return {\n",
              "      response: {\n",
              "        action: 'complete',\n",
              "      }\n",
              "    };\n",
              "  }\n",
              "\n",
              "  for (const file of files) {\n",
              "    const li = document.createElement('li');\n",
              "    li.append(span(file.name, {fontWeight: 'bold'}));\n",
              "    li.append(span(\n",
              "        `(${file.type || 'n/a'}) - ${file.size} bytes, ` +\n",
              "        `last modified: ${\n",
              "            file.lastModifiedDate ? file.lastModifiedDate.toLocaleDateString() :\n",
              "                                    'n/a'} - `));\n",
              "    const percent = span('0% done');\n",
              "    li.appendChild(percent);\n",
              "\n",
              "    outputElement.appendChild(li);\n",
              "\n",
              "    const fileDataPromise = new Promise((resolve) => {\n",
              "      const reader = new FileReader();\n",
              "      reader.onload = (e) => {\n",
              "        resolve(e.target.result);\n",
              "      };\n",
              "      reader.readAsArrayBuffer(file);\n",
              "    });\n",
              "    // Wait for the data to be ready.\n",
              "    let fileData = yield {\n",
              "      promise: fileDataPromise,\n",
              "      response: {\n",
              "        action: 'continue',\n",
              "      }\n",
              "    };\n",
              "\n",
              "    // Use a chunked sending to avoid message size limits. See b/62115660.\n",
              "    let position = 0;\n",
              "    do {\n",
              "      const length = Math.min(fileData.byteLength - position, MAX_PAYLOAD_SIZE);\n",
              "      const chunk = new Uint8Array(fileData, position, length);\n",
              "      position += length;\n",
              "\n",
              "      const base64 = btoa(String.fromCharCode.apply(null, chunk));\n",
              "      yield {\n",
              "        response: {\n",
              "          action: 'append',\n",
              "          file: file.name,\n",
              "          data: base64,\n",
              "        },\n",
              "      };\n",
              "\n",
              "      let percentDone = fileData.byteLength === 0 ?\n",
              "          100 :\n",
              "          Math.round((position / fileData.byteLength) * 100);\n",
              "      percent.textContent = `${percentDone}% done`;\n",
              "\n",
              "    } while (position < fileData.byteLength);\n",
              "  }\n",
              "\n",
              "  // All done.\n",
              "  yield {\n",
              "    response: {\n",
              "      action: 'complete',\n",
              "    }\n",
              "  };\n",
              "}\n",
              "\n",
              "scope.google = scope.google || {};\n",
              "scope.google.colab = scope.google.colab || {};\n",
              "scope.google.colab._files = {\n",
              "  _uploadFiles,\n",
              "  _uploadFilesContinue,\n",
              "};\n",
              "})(self);\n",
              "</script> "
            ]
          },
          "metadata": {}
        },
        {
          "output_type": "stream",
          "name": "stdout",
          "text": [
            "Saving raw_data.csv to raw_data (1).csv\n"
          ]
        }
      ],
      "source": [
        "from google.colab import files\n",
        "\n",
        "uploaded = files.upload()\n",
        "csv_filename = list(uploaded.keys())[0]\n",
        "df = pd.read_csv(csv_filename)\n",
        "df.columns = df.columns.str.strip().str.replace(' ', '_')\n"
      ]
    },
    {
      "cell_type": "code",
      "source": [
        "\n",
        "df['Height_m'] = df['Height'] * 0.0254        # inches → meters\n",
        "df['Weight_kg'] = df['Weight'] * 0.45359237   # pounds → kilograms\n",
        "df['BMI'] = (df['Weight_kg'] / (df['Height_m']**2)).round(2)\n",
        "\n",
        "def assign_age_group(age):\n",
        "    if age < 30:\n",
        "        return '<30'\n",
        "    elif age <= 45:\n",
        "        return '30–45'\n",
        "    elif age <= 60:\n",
        "        return '46–60'\n",
        "    else:\n",
        "        return '>60'\n",
        "\n",
        "df['AgeGroup'] = df['Age'].apply(assign_age_group)\n",
        "\n",
        "\n",
        "df['Frailty_binary'] = df['Frailty'].map({'Y': 1, 'N': 0}).astype('int8')\n",
        "\n",
        "age_dummies = pd.get_dummies(df['AgeGroup'], prefix='AgeGroup')\n",
        "df = pd.concat([df, age_dummies], axis=1)\n",
        "\n",
        "print(df[['Height','Height_m','Weight','Weight_kg','BMI','Age','AgeGroup','Frailty_binary']].head())\n"
      ],
      "metadata": {
        "colab": {
          "base_uri": "https://localhost:8080/"
        },
        "id": "HNm3w4a7uIvR",
        "outputId": "de8ee92d-c553-469b-ff3b-e95712d1615b"
      },
      "execution_count": 66,
      "outputs": [
        {
          "output_type": "stream",
          "name": "stdout",
          "text": [
            "   Height  Height_m  Weight  Weight_kg    BMI  Age AgeGroup  Frailty_binary\n",
            "0    65.8   1.67132     112  50.802345  18.19   30    30–45               0\n",
            "1    71.5   1.81610     136  61.688562  18.70   19      <30               0\n",
            "2    69.4   1.76276     153  69.399633  22.33   45    30–45               0\n",
            "3    68.2   1.73228     142  64.410117  21.46   22      <30               1\n",
            "4    67.8   1.72212     144  65.317301  22.02   29      <30               1\n"
          ]
        }
      ]
    },
    {
      "cell_type": "code",
      "execution_count": 58,
      "metadata": {
        "colab": {
          "base_uri": "https://localhost:8080/"
        },
        "id": "OAXG-VSOy1BF",
        "outputId": "a09ef1f1-43f5-4e2f-ceb6-c1e9c4a200f3"
      },
      "outputs": [
        {
          "output_type": "stream",
          "name": "stdout",
          "text": [
            "\n",
            " Processed data saved as processed_data.csv\n"
          ]
        }
      ],
      "source": [
        "df.to_csv(\"processed_data.csv\", index=False)\n",
        "\n",
        "print(\"\\n Processed data saved as processed_data.csv\")"
      ]
    },
    {
      "cell_type": "code",
      "execution_count": 60,
      "metadata": {
        "id": "OnVqXAYFxrWu"
      },
      "outputs": [],
      "source": [
        "summary = df.describe().T[[\"mean\", \"50%\", \"std\"]]  # 50% is median\n",
        "summary.rename(columns={\"50%\": \"median\"}, inplace=True)\n",
        "os.makedirs(\"Q1_Frailty_Workflow/reports\", exist_ok=True)\n",
        "with open(\"Q1_Frailty_Workflow/reports/findings.md\", \"w\") as f:\n",
        "    f.write(\"# Frailty Dataset Report\\n\\n\")\n",
        "    f.write(\"## Summary Statistics\\n\\n\")\n",
        "    f.write(summary.to_markdown())\n",
        "    f.write(\"\\n\\n\")\n"
      ]
    },
    {
      "cell_type": "code",
      "source": [
        "print(\"Summary Table:\")\n",
        "print(summary)\n",
        "print(\"\\nCorrelation between Grip strength and Frailty_binary:\", round(correlation, 3))"
      ],
      "metadata": {
        "colab": {
          "base_uri": "https://localhost:8080/"
        },
        "id": "FNfbF8ErwyrT",
        "outputId": "2c03bd52-16d0-48d5-a85b-ee52f9addf2c"
      },
      "execution_count": 65,
      "outputs": [
        {
          "output_type": "stream",
          "name": "stdout",
          "text": [
            "Summary Table:\n",
            "                      mean      median        std\n",
            "Height           68.600000   68.450000   1.670662\n",
            "Weight          131.900000  136.000000  14.231811\n",
            "Age              32.500000   29.500000  12.860361\n",
            "Grip_strength    26.000000   27.000000   4.521553\n",
            "Height_m          1.742440    1.738630   0.042435\n",
            "Weight_kg        59.828834   61.688562   6.455441\n",
            "BMI              19.682000   19.185000   1.780972\n",
            "Frailty_binary    0.400000    0.000000   0.516398\n",
            "AgeGroup_>60      0.000000    0.000000   0.000000\n",
            "AgeGroup_>60      0.000000    0.000000   0.000000\n",
            "\n",
            "Correlation between Grip strength and Frailty_binary: -0.476\n"
          ]
        }
      ]
    },
    {
      "cell_type": "code",
      "execution_count": null,
      "metadata": {
        "colab": {
          "base_uri": "https://localhost:8080/",
          "height": 514
        },
        "id": "roG7yImbyHxH",
        "outputId": "9bafc223-3a20-4867-8459-fb2393f0f113"
      },
      "outputs": [
        {
          "output_type": "stream",
          "name": "stderr",
          "text": [
            "/tmp/ipython-input-439135738.py:2: FutureWarning: \n",
            "\n",
            "Passing `palette` without assigning `hue` is deprecated and will be removed in v0.14.0. Assign the `x` variable to `hue` and set `legend=False` for the same effect.\n",
            "\n",
            "  sns.countplot(x='AgeGroup', data=df, palette='Set2')\n"
          ]
        },
        {
          "output_type": "display_data",
          "data": {
            "text/plain": [
              "<Figure size 600x400 with 1 Axes>"
            ],
            "image/png": "[encoded data removed]"
          },
          "metadata": {}
        }
      ],
      "source": [
        "plt.figure(figsize=(6,4))\n",
        "sns.countplot(x='AgeGroup', data=df, palette='Set2')\n",
        "plt.title('AgeGroup Distribution')\n",
        "plt.xlabel('Age Group')\n",
        "plt.ylabel('Count')\n",
        "plt.tight_layout()\n",
        "plt.savefig(\"results/AgeGroup_counts.png\")\n",
        "plt.show()\n"
      ]
    },
    {
      "cell_type": "code",
      "execution_count": null,
      "metadata": {
        "colab": {
          "base_uri": "https://localhost:8080/",
          "height": 407
        },
        "id": "1MgMxOU0yLQi",
        "outputId": "1e565a8b-12af-4a1b-ab48-4ab5635604f0"
      },
      "outputs": [
        {
          "output_type": "display_data",
          "data": {
            "text/plain": [
              "<Figure size 600x400 with 2 Axes>"
            ],
            "image/png": "[encoded data removed]"
          },
          "metadata": {}
        }
      ],
      "source": [
        "plt.figure(figsize=(6,4))\n",
        "numeric_cols = ['Height_m','Weight_kg','BMI','Grip_strength','Frailty_binary']\n",
        "sns.heatmap(df[numeric_cols].corr(), annot=True, cmap='coolwarm', fmt=\".2f\")\n",
        "plt.title('Correlation Heatmap')\n",
        "plt.tight_layout()\n",
        "plt.savefig(\"results/correlation_heatmap.png\")\n",
        "plt.show()\n"
      ]
    }
  ],
  "metadata": {
    "colab": {
      "provenance": []
    },
    "kernelspec": {
      "display_name": "Python 3",
      "name": "python3"
    },
    "language_info": {
      "name": "python"
    }
  },
  "nbformat": 4,
  "nbformat_minor": 0
}